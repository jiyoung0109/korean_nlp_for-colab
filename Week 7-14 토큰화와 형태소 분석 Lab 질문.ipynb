{
 "cells": [
  {
   "cell_type": "markdown",
   "metadata": {},
   "source": [
    "# Week 7-14 토큰화와 형태소 분석 Lab"
   ]
  },
  {
   "cell_type": "markdown",
   "metadata": {},
   "source": [
    "다음은 BusinessKorea에 2021년 9월23일 LG전자에 대한 기사이다. 이 기사를 사용하여 다음을 수행하시오."
   ]
  },
  {
   "cell_type": "code",
   "execution_count": null,
   "metadata": {},
   "outputs": [],
   "source": [
    "article=\"\"\"LG Electronics announced on Sept. 22 that it has won a total of ten awards including one Gold at the International Design Excellence Awards (IDEA) 2021.\n",
    "The IDEA is one of the world's top three prestigious design awards along with the Red Dot Design Awards and the iF Design Awards. Organized by the Industrial Designers Society of America (IDSA), the design award marks its 41st anniversary this year.\n",
    "The winner of the Gold award, which is the highest award, was StandbyMe, a plugless monitor that is attracting popularity in Korea despite its hefty price tag of 1.29 million won (US$1,130) and exclusive online offering. The innovative TV also won the main prize at the iF Design Awards 2021 and the Red Dot Design Awards 2021.\n",
    "Different from other TVs or displays, LG’s StandbyMe comes in a moving stand design. Its screen position can be adjusted according to viewing postures. The display supports the swivel position, which allows the viewer to adjust the left and right sides of the display to up to 65 degrees, a 25-degree tilt and a clockwise and counterclockwise 90-degree rotation. Its screen can be extended by up to 20 centimeters vertically.\n",
    "In addition, four products nabbed four Bronze awards. They were Gallery Stand, which makes LG OLED Evo's slim design stand out, LG Sound Bar Eclair that used curves, breaking away from bar-type design, LG Wash Tower, a one-body washer and drier which secured seamless design by minimizing lines and margins and LG Puricare 360° Air Purifier Alpha.\n",
    "Apart from them, five products were selected as finalists -- LG Styler, LG Code Zero A9S Object Collection, LG Puricare Dual Water Purifier, LG Instagram View ThinQ Oven, and LG Ultra Gear Gaming Speaker.\n",
    "\"\"\""
   ]
  },
  {
   "cell_type": "markdown",
   "metadata": {},
   "source": [
    "1. nltk 패키지의 word_tokenize를 이용하여 단어 토큰화를 수행하시오. 생성된 단어의 개수를 확인하시오."
   ]
  },
  {
   "cell_type": "markdown",
   "metadata": {},
   "source": [
    "2. nltk 패키지의 sent_tokenize() 함수를 이용하여 문장 토큰화를 수행하시오. 몇 문장이 생성되었는지 확인하시오."
   ]
  },
  {
   "cell_type": "markdown",
   "metadata": {},
   "source": [
    "3. 문장 토큰화를 수행하고, 문장 내에서 단어 토큰화를 수행하시오."
   ]
  },
  {
   "cell_type": "markdown",
   "metadata": {},
   "source": [
    "4. 첫 번째 문장에 대하여 품사 태깅을 하시오"
   ]
  },
  {
   "cell_type": "markdown",
   "metadata": {},
   "source": [
    "다음은 zdnetKorea에 9월 22일자 기사이다. 이 기사를 사용하여 다음을 수행하시오."
   ]
  },
  {
   "cell_type": "code",
   "execution_count": null,
   "metadata": {},
   "outputs": [],
   "source": [
    "k_article=\"\"\"LG전자가 세계적 권위를 인정받는 디자인상 IDEA에서 최고상을 포함해 총 10개 상을 받았다고 22일 밝혔다.\n",
    "무선 프라이빗 스크린 LG 스탠바이미가 어워드 최고상에 해당하는 금상을 수상했다. LG 스탠바이미는 앞서 iF 디자인 어워드 2021과 레드닷 디자인 어워드 2021에서도 본상을 수상하며 올해 열린 세계 3대 디자인상을 석권했다.\n",
    "금상 수상작인 LG 스탠바이미는 기존 TV와는 차별화된 무빙스탠드 디자인이 특징이다. 패브릭 마감 후면은 깔끔하면서도 고급스러운 느낌을 주고, 화면을 시청하지 않을 때에 인테리어 오브제로도 충분히 활용할 수 있다.\n",
    "올레드 TV, 워시타워 등 LG전자를 대표하는 프리미엄 가전들도 두루 차별화된 디자인 경쟁력을 인정받았다.\n",
    "LG 스타일러, LG 코드제로 A9S 오브제컬렉션, LG 퓨리케어 듀얼정수기, LG 인스타뷰 씽큐 오븐, LG 울트라기어 게이밍 스피커 등 총 5개 제품도 본상를 받으며 디자인 우수성을 인정받았다.\n",
    "LG전자 디자인경영센터장 이철배 전무는 “좋은 디자인은 고객이 추구하는 라이프스타일을 실현하고 개성을 표현할 수 있도록 돕는 것”이라며 “앞으로도 고객의 삶에 영감을 주는 디자인을 지속 선보일 것”이라고 말했다. \n",
    "\"\"\""
   ]
  },
  {
   "cell_type": "markdown",
   "metadata": {},
   "source": [
    "5. Okt 패키지를 이용하여 다음을 수행하시오.\n",
    "(1) 형태소들을 추출하시오.\n",
    "(2) 품사 태깅을 하시오.\n",
    "(3) 명사만 추출하시오."
   ]
  },
  {
   "cell_type": "markdown",
   "metadata": {},
   "source": [
    "6. Komoran 패키지를 이용하여 다음을 수행하시오.\n",
    "(1) 형태소들을 추출하시오.\n",
    "(2) 품사 태깅을 하시오.\n",
    "(3) 명사만 추출하시오."
   ]
  },
  {
   "cell_type": "markdown",
   "metadata": {},
   "source": [
    " 7. kss 패키지를 이용하여 문장 토콘화를 수행하시오. 몇 개의 문장으로 분할되었는지 확인하시오."
   ]
  },
  {
   "cell_type": "markdown",
   "metadata": {},
   "source": [
    "8. kss 패키지를 이용하여 문장 토콘화를 수행하고, Okt 패키지를 이용하여 각 문장별로 형태소를 추출하시오."
   ]
  }
 ],
 "metadata": {
  "kernelspec": {
   "display_name": "Python 3 (ipykernel)",
   "language": "python",
   "name": "python3"
  },
  "language_info": {
   "codemirror_mode": {
    "name": "ipython",
    "version": 3
   },
   "file_extension": ".py",
   "mimetype": "text/x-python",
   "name": "python",
   "nbconvert_exporter": "python",
   "pygments_lexer": "ipython3",
   "version": "3.8.5"
  }
 },
 "nbformat": 4,
 "nbformat_minor": 4
}
