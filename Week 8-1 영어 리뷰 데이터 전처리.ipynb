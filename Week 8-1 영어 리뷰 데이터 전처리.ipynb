{
 "cells": [
  {
   "cell_type": "markdown",
   "metadata": {},
   "source": [
    "# Week 8-1 영어 리뷰 데이터 전처리"
   ]
  },
  {
   "cell_type": "code",
   "execution_count": 1,
   "metadata": {},
   "outputs": [
    {
     "data": {
      "text/html": [
       "<div>\n",
       "<style scoped>\n",
       "    .dataframe tbody tr th:only-of-type {\n",
       "        vertical-align: middle;\n",
       "    }\n",
       "\n",
       "    .dataframe tbody tr th {\n",
       "        vertical-align: top;\n",
       "    }\n",
       "\n",
       "    .dataframe thead th {\n",
       "        text-align: right;\n",
       "    }\n",
       "</style>\n",
       "<table border=\"1\" class=\"dataframe\">\n",
       "  <thead>\n",
       "    <tr style=\"text-align: right;\">\n",
       "      <th></th>\n",
       "      <th>date</th>\n",
       "      <th>star</th>\n",
       "      <th>like</th>\n",
       "      <th>comment</th>\n",
       "    </tr>\n",
       "  </thead>\n",
       "  <tbody>\n",
       "    <tr>\n",
       "      <th>0</th>\n",
       "      <td>September 18, 2021</td>\n",
       "      <td>1</td>\n",
       "      <td>12.0</td>\n",
       "      <td>This app no longer works. It has just updated ...</td>\n",
       "    </tr>\n",
       "    <tr>\n",
       "      <th>1</th>\n",
       "      <td>September 19, 2021</td>\n",
       "      <td>1</td>\n",
       "      <td>NaN</td>\n",
       "      <td>Everything worked fine until a week or so ago....</td>\n",
       "    </tr>\n",
       "    <tr>\n",
       "      <th>2</th>\n",
       "      <td>September 18, 2021</td>\n",
       "      <td>2</td>\n",
       "      <td>6.0</td>\n",
       "      <td>App doesn't work with wired TV connection. EDI...</td>\n",
       "    </tr>\n",
       "    <tr>\n",
       "      <th>3</th>\n",
       "      <td>September 18, 2021</td>\n",
       "      <td>1</td>\n",
       "      <td>2.0</td>\n",
       "      <td>I'm trying this again by have Alexa connection...</td>\n",
       "    </tr>\n",
       "    <tr>\n",
       "      <th>4</th>\n",
       "      <td>September 1, 2021</td>\n",
       "      <td>1</td>\n",
       "      <td>104.0</td>\n",
       "      <td>Just embarrassing. Absolutely, 100%, will not ...</td>\n",
       "    </tr>\n",
       "    <tr>\n",
       "      <th>...</th>\n",
       "      <td>...</td>\n",
       "      <td>...</td>\n",
       "      <td>...</td>\n",
       "      <td>...</td>\n",
       "    </tr>\n",
       "    <tr>\n",
       "      <th>11275</th>\n",
       "      <td>June 6, 2019</td>\n",
       "      <td>5</td>\n",
       "      <td>NaN</td>\n",
       "      <td>Good app. useful so far</td>\n",
       "    </tr>\n",
       "    <tr>\n",
       "      <th>11276</th>\n",
       "      <td>November 9, 2020</td>\n",
       "      <td>5</td>\n",
       "      <td>NaN</td>\n",
       "      <td>Its been helpful. Hope it stays that way</td>\n",
       "    </tr>\n",
       "    <tr>\n",
       "      <th>11277</th>\n",
       "      <td>July 17, 2020</td>\n",
       "      <td>5</td>\n",
       "      <td>NaN</td>\n",
       "      <td>Worked like it should and gave me feedback tha...</td>\n",
       "    </tr>\n",
       "    <tr>\n",
       "      <th>11278</th>\n",
       "      <td>September 27, 2020</td>\n",
       "      <td>1</td>\n",
       "      <td>NaN</td>\n",
       "      <td>error routed device.. .</td>\n",
       "    </tr>\n",
       "    <tr>\n",
       "      <th>11279</th>\n",
       "      <td>January 1, 2021</td>\n",
       "      <td>1</td>\n",
       "      <td>NaN</td>\n",
       "      <td>Not connected with washing machine 😞</td>\n",
       "    </tr>\n",
       "  </tbody>\n",
       "</table>\n",
       "<p>11280 rows × 4 columns</p>\n",
       "</div>"
      ],
      "text/plain": [
       "                     date  star   like  \\\n",
       "0      September 18, 2021     1   12.0   \n",
       "1      September 19, 2021     1    NaN   \n",
       "2      September 18, 2021     2    6.0   \n",
       "3      September 18, 2021     1    2.0   \n",
       "4       September 1, 2021     1  104.0   \n",
       "...                   ...   ...    ...   \n",
       "11275        June 6, 2019     5    NaN   \n",
       "11276    November 9, 2020     5    NaN   \n",
       "11277       July 17, 2020     5    NaN   \n",
       "11278  September 27, 2020     1    NaN   \n",
       "11279     January 1, 2021     1    NaN   \n",
       "\n",
       "                                                 comment  \n",
       "0      This app no longer works. It has just updated ...  \n",
       "1      Everything worked fine until a week or so ago....  \n",
       "2      App doesn't work with wired TV connection. EDI...  \n",
       "3      I'm trying this again by have Alexa connection...  \n",
       "4      Just embarrassing. Absolutely, 100%, will not ...  \n",
       "...                                                  ...  \n",
       "11275                            Good app. useful so far  \n",
       "11276           Its been helpful. Hope it stays that way  \n",
       "11277  Worked like it should and gave me feedback tha...  \n",
       "11278                            error routed device.. .  \n",
       "11279               Not connected with washing machine 😞  \n",
       "\n",
       "[11280 rows x 4 columns]"
      ]
     },
     "execution_count": 1,
     "metadata": {},
     "output_type": "execute_result"
    }
   ],
   "source": [
    "import pandas as pd\n",
    "import matplotlib.pyplot as plt\n",
    "import seaborn as sns\n",
    "import os\n",
    "\n",
    "os.chdir('D:\\kjw\\lecture\\LG전자_21\\week8_텍스트마이닝')\n",
    "review_df=pd.read_csv(\"thinq_e_review.csv\")\n",
    "review_df"
   ]
  },
  {
   "cell_type": "code",
   "execution_count": 10,
   "metadata": {},
   "outputs": [
    {
     "data": {
      "text/plain": [
       "0        this app no longer works. it has just updated ...\n",
       "1        everything worked fine until a week or so ago....\n",
       "2        app doesn't work with wired tv connection. edi...\n",
       "3        i'm trying this again by have alexa connection...\n",
       "4        just embarrassing. absolutely, 100%, will not ...\n",
       "                               ...                        \n",
       "11275                              good app. useful so far\n",
       "11276             its been helpful. hope it stays that way\n",
       "11277    worked like it should and gave me feedback tha...\n",
       "11278                              error routed device.. .\n",
       "11279                 not connected with washing machine 😞\n",
       "Name: comment_n, Length: 11280, dtype: object"
      ]
     },
     "execution_count": 10,
     "metadata": {},
     "output_type": "execute_result"
    }
   ],
   "source": [
    "# 대소문자 처리\n",
    "review_df['comment_n']=review_df['comment'].apply(lambda x: x.lower())\n",
    "review_df['comment_n']"
   ]
  },
  {
   "cell_type": "code",
   "execution_count": 11,
   "metadata": {},
   "outputs": [
    {
     "data": {
      "text/plain": [
       "0        this app no longer works. it has just updated ...\n",
       "1        everything worked fine until a week or so ago....\n",
       "2        app doesn't work with wired tv connection. edi...\n",
       "3        i'm trying this again by have alexa connection...\n",
       "4        just embarrassing. absolutely,  %, will not co...\n",
       "                               ...                        \n",
       "11275                              good app. useful so far\n",
       "11276             its been helpful. hope it stays that way\n",
       "11277    worked like it should and gave me feedback tha...\n",
       "11278                              error routed device.. .\n",
       "11279                 not connected with washing machine 😞\n",
       "Name: comment_n, Length: 11280, dtype: object"
      ]
     },
     "execution_count": 11,
     "metadata": {},
     "output_type": "execute_result"
    }
   ],
   "source": [
    "# 숫자, 문장부호, 특수문자 제거\n",
    "import re\n",
    "p=re.compile(\"[0-9]+\")\n",
    "review_df['comment_n']=review_df['comment_n'].apply(lambda x: p.sub(\" \", x))\n",
    "review_df['comment_n']"
   ]
  },
  {
   "cell_type": "code",
   "execution_count": 12,
   "metadata": {},
   "outputs": [
    {
     "data": {
      "text/plain": [
       "0        this app no longer works it has just updated a...\n",
       "1        everything worked fine until a week or so ago ...\n",
       "2        app doesn t work with wired tv connection edit...\n",
       "3        i m trying this again by have alexa connection...\n",
       "4        just embarrassing absolutely will not connect ...\n",
       "                               ...                        \n",
       "11275                               good app useful so far\n",
       "11276              its been helpful hope it stays that way\n",
       "11277    worked like it should and gave me feedback tha...\n",
       "11278                                 error routed device \n",
       "11279                  not connected with washing machine \n",
       "Name: comment_n, Length: 11280, dtype: object"
      ]
     },
     "execution_count": 12,
     "metadata": {},
     "output_type": "execute_result"
    }
   ],
   "source": [
    "p=re.compile(\"\\W+\")\n",
    "review_df['comment_n']=review_df['comment_n'].apply(lambda x: p.sub(\" \", x))\n",
    "review_df['comment_n']"
   ]
  },
  {
   "cell_type": "code",
   "execution_count": 13,
   "metadata": {},
   "outputs": [
    {
     "data": {
      "text/plain": [
       "0        [this, app, no, longer, works, it, has, just, ...\n",
       "1        [everything, worked, fine, until, a, week, or,...\n",
       "2        [app, doesn, t, work, with, wired, tv, connect...\n",
       "3        [i, m, trying, this, again, by, have, alexa, c...\n",
       "4        [just, embarrassing, absolutely, will, not, co...\n",
       "                               ...                        \n",
       "11275                         [good, app, useful, so, far]\n",
       "11276     [its, been, helpful, hope, it, stays, that, way]\n",
       "11277    [worked, like, it, should, and, gave, me, feed...\n",
       "11278                              [error, routed, device]\n",
       "11279             [not, connected, with, washing, machine]\n",
       "Name: comment_n, Length: 11280, dtype: object"
      ]
     },
     "execution_count": 13,
     "metadata": {},
     "output_type": "execute_result"
    }
   ],
   "source": [
    "# 토콘화\n",
    "from nltk.tokenize import word_tokenize \n",
    "from nltk.corpus import stopwords  \n",
    "\n",
    "stop_words = set(stopwords.words('english')) \n",
    "\n",
    "review_df['comment_n']=review_df['comment_n'].apply(lambda x: word_tokenize(x))\n",
    "review_df['comment_n']"
   ]
  },
  {
   "cell_type": "code",
   "execution_count": 14,
   "metadata": {},
   "outputs": [
    {
     "data": {
      "text/plain": [
       "0        [app, longer, works, updated, tells, login, in...\n",
       "1        [everything, worked, fine, week, ago, connect,...\n",
       "2        [app, work, wired, tv, connection, edit, tried...\n",
       "3        [trying, alexa, connection, turn, lg, tv, webo...\n",
       "4        [embarrassing, absolutely, connect, google, ho...\n",
       "                               ...                        \n",
       "11275                             [good, app, useful, far]\n",
       "11276                          [helpful, hope, stays, way]\n",
       "11277              [worked, like, gave, feedback, wanting]\n",
       "11278                              [error, routed, device]\n",
       "11279                        [connected, washing, machine]\n",
       "Name: comment_n, Length: 11280, dtype: object"
      ]
     },
     "execution_count": 14,
     "metadata": {},
     "output_type": "execute_result"
    }
   ],
   "source": [
    "# 불용어 처리\n",
    "def remove_stopwords(word_tokens):\n",
    "    result = []\n",
    "    for w in word_tokens: \n",
    "        if w not in stop_words: \n",
    "            result.append(w) \n",
    "    return result\n",
    "\n",
    "review_df['comment_n']=review_df['comment_n'].apply(lambda x: remove_stopwords(x))\n",
    "review_df['comment_n']"
   ]
  },
  {
   "cell_type": "code",
   "execution_count": 15,
   "metadata": {},
   "outputs": [
    {
     "data": {
      "text/plain": [
       "0        [app, longer, work, updated, tell, login, inco...\n",
       "1        [everything, worked, fine, week, ago, connect,...\n",
       "2        [app, work, wired, tv, connection, edit, tried...\n",
       "3        [trying, alexa, connection, turn, lg, tv, webo...\n",
       "4        [embarrassing, absolutely, connect, google, ho...\n",
       "                               ...                        \n",
       "11275                             [good, app, useful, far]\n",
       "11276                           [helpful, hope, stay, way]\n",
       "11277              [worked, like, gave, feedback, wanting]\n",
       "11278                              [error, routed, device]\n",
       "11279                        [connected, washing, machine]\n",
       "Name: comment_n, Length: 11280, dtype: object"
      ]
     },
     "execution_count": 15,
     "metadata": {},
     "output_type": "execute_result"
    }
   ],
   "source": [
    "# 어간 추출\n",
    "from nltk.stem import WordNetLemmatizer\n",
    "n=WordNetLemmatizer()\n",
    "\n",
    "review_df['comment_n']=review_df['comment_n'].apply(lambda x: [n.lemmatize(w) for w in x])\n",
    "\n",
    "review_df.to_csv('thinq_e_review_result.csv',index=False)\n",
    "review_df['comment_n']"
   ]
  },
  {
   "cell_type": "code",
   "execution_count": 16,
   "metadata": {},
   "outputs": [
    {
     "data": {
      "text/plain": [
       "<AxesSubplot:>"
      ]
     },
     "execution_count": 16,
     "metadata": {},
     "output_type": "execute_result"
    },
    {
     "data": {
      "image/png": "[encoded data removed]",
      "text/plain": [
       "<Figure size 432x288 with 1 Axes>"
      ]
     },
     "metadata": {
      "needs_background": "light"
     },
     "output_type": "display_data"
    }
   ],
   "source": [
    "# 단어 빈도 그래프\n",
    "total_word=[]\n",
    "for i in range(len(review_df)):\n",
    "    total_word.extend(review_df.loc[i,'comment_n'])\n",
    "\n",
    "pd.Series(total_word).value_counts().head(15)\n",
    "\n",
    "pd.Series(total_word).value_counts().head(15).plot(kind='bar')"
   ]
  },
  {
   "cell_type": "code",
   "execution_count": 17,
   "metadata": {},
   "outputs": [
    {
     "data": {
      "text/plain": [
       "<AxesSubplot:>"
      ]
     },
     "execution_count": 17,
     "metadata": {},
     "output_type": "execute_result"
    },
    {
     "data": {
      "image/png": "[encoded data removed]",
      "text/plain": [
       "<Figure size 432x288 with 1 Axes>"
      ]
     },
     "metadata": {
      "needs_background": "light"
     },
     "output_type": "display_data"
    }
   ],
   "source": [
    "pd.Series(total_word).value_counts().head(15).plot(kind='barh')"
   ]
  },
  {
   "cell_type": "code",
   "execution_count": 18,
   "metadata": {},
   "outputs": [
    {
     "data": {
      "image/png": "[encoded data removed]",
      "text/plain": [
       "<Figure size 432x288 with 1 Axes>"
      ]
     },
     "metadata": {
      "needs_background": "light"
     },
     "output_type": "display_data"
    }
   ],
   "source": [
    "pd.Series(total_word).value_counts().head(15).plot(kind='barh').invert_yaxis()"
   ]
  }
 ],
 "metadata": {
  "kernelspec": {
   "display_name": "Python 3 (ipykernel)",
   "language": "python",
   "name": "python3"
  },
  "language_info": {
   "codemirror_mode": {
    "name": "ipython",
    "version": 3
   },
   "file_extension": ".py",
   "mimetype": "text/x-python",
   "name": "python",
   "nbconvert_exporter": "python",
   "pygments_lexer": "ipython3",
   "version": "3.8.5"
  }
 },
 "nbformat": 4,
 "nbformat_minor": 4
}
