{
 "cells": [
  {
   "cell_type": "markdown",
   "metadata": {},
   "source": [
    "# Week 8-7 한글 토픽 모델링 실습"
   ]
  },
  {
   "cell_type": "markdown",
   "metadata": {},
   "source": [
    "1. smartthings_review_result.csv 파일을 열어서 review_df에 저장하시오."
   ]
  },
  {
   "cell_type": "markdown",
   "metadata": {},
   "source": [
    "2. 문자열로 저장되어 있는 comment_n 컬럼을 하나의 단어 리스트로 변환하시오."
   ]
  },
  {
   "cell_type": "markdown",
   "metadata": {},
   "source": [
    "3. 토픽 모델링을 위한 단어사전과 Bag of Words 변환을 수행하시오."
   ]
  },
  {
   "cell_type": "markdown",
   "metadata": {},
   "source": [
    "4. gensim 패키지를 이용해서 LDA 토픽 모델을 생성하시오. 단 토픽의 수는 10으로 하시오."
   ]
  },
  {
   "cell_type": "markdown",
   "metadata": {},
   "source": [
    "5. 토픽별로 주요한 단어들이 무엇인 지 확인하시오."
   ]
  },
  {
   "cell_type": "markdown",
   "metadata": {},
   "source": [
    "6. 앞서 작성한 문서별로 토픽 가중치를 구하여 데이터프레임에 저장하는 함수 make_topictable_per_doc()를 이용하여 상위 5개 문서의 주요 토픽이 무엇인지 확인하시오."
   ]
  },
  {
   "cell_type": "markdown",
   "metadata": {},
   "source": [
    "7. 토픽을 가시화하시오."
   ]
  },
  {
   "cell_type": "markdown",
   "metadata": {},
   "source": [
    "8. sklearn의 LDA를 이용해서 토픽 모델링을 수행하시오."
   ]
  },
  {
   "cell_type": "markdown",
   "metadata": {},
   "source": [
    "9. 앞서 작성한 disply_topics 함수를 이용해서 각 토픽 주요 단어와 가중치를 데이터프레임 형태로 만드시오."
   ]
  }
 ],
 "metadata": {
  "kernelspec": {
   "display_name": "Python 3 (ipykernel)",
   "language": "python",
   "name": "python3"
  },
  "language_info": {
   "codemirror_mode": {
    "name": "ipython",
    "version": 3
   },
   "file_extension": ".py",
   "mimetype": "text/x-python",
   "name": "python",
   "nbconvert_exporter": "python",
   "pygments_lexer": "ipython3",
   "version": "3.8.5"
  }
 },
 "nbformat": 4,
 "nbformat_minor": 4
}
