{
 "cells": [
  {
   "cell_type": "markdown",
   "metadata": {},
   "source": [
    "# Week 7-13 한글 설치 패키지 확인"
   ]
  },
  {
   "cell_type": "code",
   "execution_count": 1,
   "metadata": {},
   "outputs": [
    {
     "name": "stdout",
     "output_type": "stream",
     "text": [
      "Requirement already satisfied: kss in c:\\programdata\\anaconda3\\lib\\site-packages (2.5.0)\n",
      "['딥 러닝 자연어 처리가 재미있기는 합니다.', '그런데 문제는 영어보다 한국어로 할 때 너무 어려워요.', '농담아니에요.', '이제 해보면 알걸요?']\n"
     ]
    }
   ],
   "source": [
    "# kss \n",
    "# 한글 문장 토큰화\n",
    "!pip install kss\n",
    "\n",
    "import kss\n",
    "\n",
    "text='딥 러닝 자연어 처리가 재미있기는 합니다. 그런데 문제는 영어보다 한국어로 할 때 너무 어려워요. 농담아니에요. 이제 해보면 알걸요?'\n",
    "print(kss.split_sentences(text))"
   ]
  },
  {
   "cell_type": "code",
   "execution_count": 3,
   "metadata": {},
   "outputs": [
    {
     "name": "stdout",
     "output_type": "stream",
     "text": [
      "<class 'hanspell.response.Checked'>\n"
     ]
    }
   ],
   "source": [
    "# hanspell\n",
    "\n",
    "from hanspell import spell_checker\n",
    "\n",
    "text = '딥 러닝 자연어 처리가 재미있기는함니다. 그런데문제은영어보다 한국어로 할때 너무어려워요. 농당아니에요. 이제 해보면알걸요?'\n",
    "\n",
    "print(type(spell_checker.check(text)))"
   ]
  },
  {
   "cell_type": "code",
   "execution_count": 4,
   "metadata": {},
   "outputs": [
    {
     "name": "stdout",
     "output_type": "stream",
     "text": [
      "Checked(result=True, original='딥 러닝 자연어 처리가 재미있기는함니다. 그런데문제은영어보다 한국어로 할때 너무어려워요. 농당아니에요. 이제 해보면알걸요?', checked='딥 러닝 자연어 처리가 재미있기는 합니다. 그런데 문제는 영어보다 한국어로 할 때 너무 어려워요. 농담 아니에요. 이제 해보면 알걸요?', errors=6, words=OrderedDict([('딥', 0), ('러닝', 0), ('자연어', 0), ('처리가', 0), ('재미있기는', 1), ('합니다.', 1), ('그런데', 4), ('문제는', 4), ('영어보다', 4), ('한국어로', 0), ('할', 2), ('때', 2), ('너무', 2), ('어려워요.', 2), ('농담', 4), ('아니에요.', 4), ('이제', 0), ('해보면', 2), ('알걸요?', 2)]), time=0.255997896194458)\n"
     ]
    }
   ],
   "source": [
    "print(spell_checker.check(text))"
   ]
  },
  {
   "cell_type": "code",
   "execution_count": 6,
   "metadata": {},
   "outputs": [
    {
     "name": "stdout",
     "output_type": "stream",
     "text": [
      "딥 러닝 자연어 처리가 재미있기는함니다. 그런데문제은영어보다 한국어로 할때 너무어려워요. 농당아니에요. 이제 해보면알걸요?\n",
      "\n",
      "딥 러닝 자연어 처리가 재미있기는 합니다. 그런데 문제는 영어보다 한국어로 할 때 너무 어려워요. 농담 아니에요. 이제 해보면 알걸요?\n"
     ]
    }
   ],
   "source": [
    "text_spell=spell_checker.check(text).checked\n",
    "print(text+\"\\n\")\n",
    "print(text_spell)"
   ]
  }
 ],
 "metadata": {
  "kernelspec": {
   "display_name": "Python 3 (ipykernel)",
   "language": "python",
   "name": "python3"
  },
  "language_info": {
   "codemirror_mode": {
    "name": "ipython",
    "version": 3
   },
   "file_extension": ".py",
   "mimetype": "text/x-python",
   "name": "python",
   "nbconvert_exporter": "python",
   "pygments_lexer": "ipython3",
   "version": "3.8.5"
  }
 },
 "nbformat": 4,
 "nbformat_minor": 4
}
