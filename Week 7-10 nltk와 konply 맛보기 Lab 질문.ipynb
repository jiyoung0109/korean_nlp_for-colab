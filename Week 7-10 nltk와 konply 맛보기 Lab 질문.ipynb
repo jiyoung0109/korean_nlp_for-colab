{
 "cells": [
  {
   "cell_type": "markdown",
   "metadata": {},
   "source": [
    "# Week 7-10 nltk와 konply 맛보기 Lab"
   ]
  },
  {
   "cell_type": "markdown",
   "metadata": {},
   "source": [
    "1. 다음은 LG 냉장고에 대한 아마존 리뷰 중 하나이다. 이를 이용해서 다음을 수행하시오."
   ]
  },
  {
   "cell_type": "code",
   "execution_count": null,
   "metadata": {},
   "outputs": [],
   "source": [
    "review1 = \"\"\"\n",
    "I’ve had many LG appliances, and loved their refrigerators. So i’m our new home we went for their new top model.\n",
    "Less then a year in it stopped working. It took weeks to get a repair scheduled, order part, and after replacing compressor and board, still dead.\n",
    "The Customer Service admitted it was taking too long and sent in for refund. But it was denied because the repairman did not report it unfixable.\n",
    "Well, he couldn’t fix it!!! Two months of running to garage for food, thanks giving, Christmas...we gave up and bought a new (Samsung).\n",
    "So don’t ignore it the multiple reviews about declining quality and poor customer service, like I did...\n",
    "\"\"\""
   ]
  },
  {
   "cell_type": "markdown",
   "metadata": {},
   "source": [
    "2. 단어별 토큰화를 하시오."
   ]
  },
  {
   "cell_type": "markdown",
   "metadata": {},
   "source": [
    "3. 문장별 토큰화를 하시오."
   ]
  },
  {
   "cell_type": "markdown",
   "metadata": {},
   "source": [
    "다음은 LG 냉장고에 대한 한글 리뷰 2개이다. 다음을 수행하시오."
   ]
  },
  {
   "cell_type": "code",
   "execution_count": 46,
   "metadata": {},
   "outputs": [],
   "source": [
    "review1 = \"이사하는데 냉장고가 없어서 빠른배송 하나보고 구매했네요... 콕 찍힌곳이 한군데 보이긴 하는데...애가아직 어리니 이런건 흠으로도 안보이네요... 근데 냉동실이나 냉장실문 서랍깊이가 낮아서 아이스큼도 자꾸 떨어지고 긴건 놓을수가 없어 불편하네요. 아이가 작은문도 냉장고큰문을 닫는것처럼 닫으니 열려있는 경우도 허다하네요...\"\n",
    "review2 = \"주문하고3일만에도착했어요현관문이작아서베란다창문뜯고냉장고문짝분리해서겨우들어왔네요두분이서친절하게잘설명해주시고설치도너무잘해주시고가셨어요좋네요10년넘게쓰던냉장고드뎌보내줬네요이것도오래쓸수있겠죠\""
   ]
  },
  {
   "cell_type": "markdown",
   "metadata": {},
   "source": [
    "4. Kkma 형태소 분석기를 이용하여 형태소 단위로 나누시오."
   ]
  },
  {
   "cell_type": "markdown",
   "metadata": {},
   "source": [
    "5. 동일한 작업을 Okt 형태소 분석기를 이용하여 형태소 단위로 나누시오"
   ]
  },
  {
   "cell_type": "markdown",
   "metadata": {},
   "source": [
    "6. Okt 형태소 분석기를 이용하여 형태소 단위로 나눈 후 어간을 추출하시오."
   ]
  },
  {
   "cell_type": "markdown",
   "metadata": {},
   "source": [
    "7. Kkma 형태소 분석기를 이용하여 명사를 추출하시오."
   ]
  },
  {
   "cell_type": "markdown",
   "metadata": {},
   "source": [
    "8. okt 형태소 분석기를 이용하여 명사를 추출하시오."
   ]
  },
  {
   "cell_type": "markdown",
   "metadata": {},
   "source": [
    "9. Kkma를 이용하여 품사 태깅을 하시오."
   ]
  },
  {
   "cell_type": "markdown",
   "metadata": {},
   "source": [
    "10. okt를 이용하여 품사 태깅을 하시오."
   ]
  }
 ],
 "metadata": {
  "kernelspec": {
   "display_name": "Python 3 (ipykernel)",
   "language": "python",
   "name": "python3"
  },
  "language_info": {
   "codemirror_mode": {
    "name": "ipython",
    "version": 3
   },
   "file_extension": ".py",
   "mimetype": "text/x-python",
   "name": "python",
   "nbconvert_exporter": "python",
   "pygments_lexer": "ipython3",
   "version": "3.8.5"
  }
 },
 "nbformat": 4,
 "nbformat_minor": 4
}
