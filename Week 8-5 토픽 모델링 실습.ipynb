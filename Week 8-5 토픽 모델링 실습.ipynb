{
 "cells": [
  {
   "cell_type": "markdown",
   "metadata": {},
   "source": [
    "# Week 8-5 토픽 모델링 실습"
   ]
  },
  {
   "cell_type": "code",
   "execution_count": 1,
   "metadata": {},
   "outputs": [],
   "source": [
    "#!pip install python-Levenshtein # Warning을 피하기 위해서 설치"
   ]
  },
  {
   "cell_type": "code",
   "execution_count": 2,
   "metadata": {},
   "outputs": [],
   "source": [
    "from nltk.corpus import stopwords \n",
    "from nltk.stem.porter import PorterStemmer\n",
    "from gensim import corpora\n",
    "import gensim\n",
    "from nltk.tokenize import RegexpTokenizer\n",
    "\n",
    "tokenizer = RegexpTokenizer('[\\w]+')\n",
    "\n",
    "stop_words = stopwords.words('english')\n",
    "\n",
    "p_stemmer = PorterStemmer()"
   ]
  },
  {
   "cell_type": "code",
   "execution_count": 3,
   "metadata": {},
   "outputs": [],
   "source": [
    "# 예제 문서 만들기\n",
    "\n",
    "doc_a = \"Brocolli is good to eat. My brother likes to eat good brocolli, but not my mother.\"\n",
    "doc_b = \"My mother spends a lot of time driving my brother around to baseball practice.\"\n",
    "doc_c = \"Some health experts suggest that driving may cause increased tension and blood pressure.\"\n",
    "doc_d = \"I often feel pressure to perform well at school, but my mother never seems to drive my brother to do better.\"\n",
    "doc_e = \"Health professionals say that brocolli is good for your health.\"\n",
    "doc_f = \"Big data is a term used to refer to data sets that are too large or complex for traditional data-processing application software to adequately deal with.\"\n",
    "doc_g = \"Data with many cases offer greater statistical power, while data with higher complexity may lead to a higher false discovery rate\"\n",
    "doc_h = \"Big data was originally associated with three key concepts: volume, variety, and velocity.\"\n",
    "doc_i = \"A 2016 definition states that 'Big data represents the information assets characterized by such a high volume, velocity and variety to require specific technology and analytical methods for its transformation into value'.\"\n",
    "doc_j = \"Data must be processed with advanced tools to reveal meaningful information.\"\n",
    "\n",
    "doc_set = [doc_a, doc_b, doc_c, doc_d, doc_e, doc_f, doc_g, doc_h, doc_i, doc_j]"
   ]
  },
  {
   "cell_type": "code",
   "execution_count": 4,
   "metadata": {},
   "outputs": [],
   "source": [
    "# 데이터 전처리\n",
    "\n",
    "texts = []\n",
    "\n",
    "for w in doc_set:\n",
    "    raw = w.lower()\n",
    "    tokens = tokenizer.tokenize(raw)\n",
    "    stopped_tokens = [i for i in tokens if not i in stop_words]\n",
    "    stemmed_tokens = [p_stemmer.stem(i) for i in stopped_tokens]\n",
    "    texts.append(stemmed_tokens)"
   ]
  },
  {
   "cell_type": "code",
   "execution_count": 5,
   "metadata": {},
   "outputs": [
    {
     "name": "stdout",
     "output_type": "stream",
     "text": [
      "{'brocolli': 0, 'brother': 1, 'eat': 2, 'good': 3, 'like': 4, 'mother': 5, 'around': 6, 'basebal': 7, 'drive': 8, 'lot': 9, 'practic': 10, 'spend': 11, 'time': 12, 'blood': 13, 'caus': 14, 'expert': 15, 'health': 16, 'increas': 17, 'may': 18, 'pressur': 19, 'suggest': 20, 'tension': 21, 'better': 22, 'feel': 23, 'never': 24, 'often': 25, 'perform': 26, 'school': 27, 'seem': 28, 'well': 29, 'profession': 30, 'say': 31, 'adequ': 32, 'applic': 33, 'big': 34, 'complex': 35, 'data': 36, 'deal': 37, 'larg': 38, 'process': 39, 'refer': 40, 'set': 41, 'softwar': 42, 'term': 43, 'tradit': 44, 'use': 45, 'case': 46, 'discoveri': 47, 'fals': 48, 'greater': 49, 'higher': 50, 'lead': 51, 'mani': 52, 'offer': 53, 'power': 54, 'rate': 55, 'statist': 56, 'associ': 57, 'concept': 58, 'key': 59, 'origin': 60, 'three': 61, 'varieti': 62, 'veloc': 63, 'volum': 64, '2016': 65, 'analyt': 66, 'asset': 67, 'character': 68, 'definit': 69, 'high': 70, 'inform': 71, 'method': 72, 'repres': 73, 'requir': 74, 'specif': 75, 'state': 76, 'technolog': 77, 'transform': 78, 'valu': 79, 'advanc': 80, 'meaning': 81, 'must': 82, 'reveal': 83, 'tool': 84}\n",
      "[(0, 2), (1, 1), (2, 2), (3, 2), (4, 1), (5, 1)]\n"
     ]
    }
   ],
   "source": [
    "# 단어 사전 생성과 Bag of Words  변환\n",
    "\n",
    "dictionary = corpora.Dictionary(texts)  # 단어 사전 생성\n",
    "print(dictionary.token2id)\n",
    "\n",
    "print(dictionary.doc2bow(texts[0]))\n",
    "\n",
    "corpus = [dictionary.doc2bow(text) for text in texts]"
   ]
  },
  {
   "cell_type": "code",
   "execution_count": 6,
   "metadata": {},
   "outputs": [
    {
     "data": {
      "text/plain": [
       "[(0,\n",
       "  '0.071*\"health\" + 0.032*\"may\" + 0.029*\"brocolli\" + 0.029*\"pressur\" + 0.029*\"drive\"'),\n",
       " (1,\n",
       "  '0.069*\"data\" + 0.034*\"good\" + 0.033*\"eat\" + 0.033*\"brocolli\" + 0.032*\"process\"'),\n",
       " (2,\n",
       "  '0.044*\"data\" + 0.027*\"mother\" + 0.027*\"brother\" + 0.027*\"drive\" + 0.025*\"higher\"')]"
      ]
     },
     "execution_count": 6,
     "metadata": {},
     "output_type": "execute_result"
    }
   ],
   "source": [
    "# LDA 모델 생성\n",
    "\n",
    "ldamodel = gensim.models.ldamodel.LdaModel(corpus, num_topics=3, id2word = dictionary)\n",
    "\n",
    "ldamodel.print_topics(num_words=5)"
   ]
  },
  {
   "cell_type": "code",
   "execution_count": 7,
   "metadata": {},
   "outputs": [
    {
     "data": {
      "text/plain": [
       "[(0, 0.03525039), (1, 0.9291788), (2, 0.035570867)]"
      ]
     },
     "execution_count": 7,
     "metadata": {},
     "output_type": "execute_result"
    }
   ],
   "source": [
    "ldamodel.get_document_topics(corpus)[0]"
   ]
  },
  {
   "cell_type": "code",
   "execution_count": null,
   "metadata": {},
   "outputs": [],
   "source": [
    "#!pip install pyLDAvis"
   ]
  },
  {
   "cell_type": "code",
   "execution_count": 8,
   "metadata": {},
   "outputs": [
    {
     "name": "stderr",
     "output_type": "stream",
     "text": [
      "C:\\ProgramData\\Anaconda3\\lib\\site-packages\\sklearn\\decomposition\\_lda.py:28: DeprecationWarning: `np.float` is a deprecated alias for the builtin `float`. To silence this warning, use `float` by itself. Doing this will not modify any behavior and is safe. If you specifically wanted the numpy scalar type, use `np.float64` here.\n",
      "Deprecated in NumPy 1.20; for more details and guidance: https://numpy.org/devdocs/release/1.20.0-notes.html#deprecations\n",
      "  EPS = np.finfo(np.float).eps\n"
     ]
    },
    {
     "data": {
      "text/html": [
       "\n",
       "<link rel=\"stylesheet\" type=\"text/css\" href=\"https://cdn.jsdelivr.net/gh/bmabey/pyLDAvis@3.3.1/pyLDAvis/js/ldavis.v1.0.0.css\">\n",
       "\n",
       "\n",
       "<div id=\"ldavis_el2217621918587073605930330500\"></div>\n",
       "<script type=\"text/javascript\">\n",
       "\n",
       "var ldavis_el2217621918587073605930330500_data = {\"mdsDat\": {\"x\": [0.03477929322226741, -0.07727758905532689, 0.042498295833059474], \"y\": [0.05857422238282801, -0.003774838114696342, -0.05479938426813166], \"topics\": [1, 2, 3], \"cluster\": [1, 1, 1], \"Freq\": [48.5340231030642, 36.54385741646819, 14.922119480467607]}, \"tinfo\": {\"Term\": [\"health\", \"good\", \"brocolli\", \"may\", \"increas\", \"blood\", \"suggest\", \"tension\", \"expert\", \"caus\", \"say\", \"profession\", \"drive\", \"pressur\", \"eat\", \"process\", \"data\", \"associ\", \"key\", \"concept\", \"advanc\", \"origin\", \"three\", \"meaning\", \"tool\", \"must\", \"reveal\", \"like\", \"higher\", \"larg\", \"higher\", \"high\", \"specif\", \"character\", \"method\", \"technolog\", \"asset\", \"repres\", \"transform\", \"analyt\", \"requir\", \"valu\", \"definit\", \"often\", \"2016\", \"perform\", \"feel\", \"better\", \"state\", \"school\", \"seem\", \"never\", \"around\", \"well\", \"lot\", \"spend\", \"practic\", \"time\", \"basebal\", \"lead\", \"drive\", \"mother\", \"brother\", \"data\", \"complex\", \"big\", \"varieti\", \"inform\", \"veloc\", \"pressur\", \"volum\", \"eat\", \"process\", \"key\", \"associ\", \"concept\", \"origin\", \"advanc\", \"three\", \"meaning\", \"must\", \"tool\", \"reveal\", \"like\", \"good\", \"brocolli\", \"larg\", \"deal\", \"applic\", \"tradit\", \"set\", \"softwar\", \"term\", \"use\", \"adequ\", \"refer\", \"big\", \"data\", \"volum\", \"veloc\", \"inform\", \"varieti\", \"brother\", \"mother\", \"complex\", \"health\", \"increas\", \"blood\", \"suggest\", \"tension\", \"expert\", \"caus\", \"say\", \"profession\", \"may\", \"pressur\", \"brocolli\", \"drive\", \"good\", \"rate\", \"power\", \"discoveri\", \"case\", \"statist\", \"offer\", \"greater\", \"fals\", \"lead\", \"mani\", \"reveal\", \"tool\", \"must\", \"three\", \"meaning\", \"advanc\", \"higher\", \"complex\", \"basebal\", \"data\", \"mother\", \"brother\", \"varieti\"], \"Freq\": [1.0, 2.0, 2.0, 1.0, 0.0, 0.0, 0.0, 0.0, 0.0, 0.0, 0.0, 0.0, 2.0, 1.0, 1.0, 1.0, 5.0, 1.0, 1.0, 1.0, 1.0, 1.0, 1.0, 1.0, 1.0, 1.0, 1.0, 1.0, 1.0, 1.0, 1.393639971467839, 0.8574334272399912, 0.856537610051798, 0.8561181463406159, 0.8562242182265811, 0.8560828065229489, 0.8556361825364677, 0.855623179161421, 0.855511392082391, 0.8553419811760374, 0.8549078886679279, 0.8547892853035911, 0.8547656904698372, 0.8539720651282807, 0.8533013426541005, 0.8529917784352482, 0.8522737614276322, 0.852141053596007, 0.8518227330721838, 0.8505517580273021, 0.8509037405139478, 0.8505295264506094, 0.8499828603690114, 0.8495996802688466, 0.8490027834078345, 0.8482121991781841, 0.8476000967576417, 0.846035811712716, 0.8449990547175656, 0.8140333521977192, 1.497027184815511, 1.509727497330826, 1.5035956719348387, 2.4872478271880696, 0.9330052678376858, 0.9723606116119209, 0.8677087151750349, 0.8642071894129787, 0.8609983968883637, 0.8566184092491644, 0.8566939127171772, 1.4153997262145823, 1.3644707546024346, 0.8261080402755069, 0.8252604926924147, 0.8248537740786167, 0.8235278919270158, 0.8230533473980066, 0.8208334896794438, 0.8201366751256159, 0.8192644922857765, 0.8186157638580994, 0.8174237964354835, 0.8145150200787168, 1.4271725364101333, 1.3952703526774084, 0.7389366580303722, 0.7195712143298312, 0.7156532609971468, 0.7062954165952303, 0.6950354461194653, 0.6921700972986313, 0.691605776208976, 0.6748329564036122, 0.6694640496158409, 0.6617902855778133, 1.3394092763298153, 2.912058846809902, 0.8270708682267112, 0.8243988903795116, 0.8219281794215707, 0.8151293223142728, 0.8186556382320012, 0.8111819172163104, 0.7022123596668457, 1.2208567413182307, 0.4970655991763614, 0.49550922535609865, 0.4954989724791753, 0.4952928187211632, 0.49460213592414487, 0.4941403050780758, 0.48778961507660556, 0.47830238302212735, 0.5579496972037685, 0.4985528466817699, 0.5007928745972607, 0.49755286876423077, 0.48972192771739087, 0.17038437218417854, 0.1677337133237327, 0.16539273648482367, 0.16473260274719173, 0.1642735769334885, 0.16302983525500936, 0.15483981782359318, 0.15123340060755905, 0.15081559587293286, 0.15064721332660536, 0.13063040563886044, 0.13021026337726274, 0.12974362044980753, 0.12964267152638936, 0.1294303192916838, 0.12877868125552766, 0.18769003548598018, 0.1624844499103654, 0.13048320592315754, 0.18442897578933087, 0.13706484358941368, 0.13614282622659354, 0.13258083008345606], \"Total\": [1.0, 2.0, 2.0, 1.0, 0.0, 0.0, 0.0, 0.0, 0.0, 0.0, 0.0, 0.0, 2.0, 1.0, 1.0, 1.0, 5.0, 1.0, 1.0, 1.0, 1.0, 1.0, 1.0, 1.0, 1.0, 1.0, 1.0, 1.0, 1.0, 1.0, 1.7955775841005854, 1.1937609838176961, 1.1937396009132355, 1.1934121403497917, 1.1937796407409706, 1.1937216492932687, 1.1934355873397915, 1.1934195123730236, 1.1933999731761298, 1.1933197778896112, 1.1933101590942545, 1.1931931007182592, 1.193288845965347, 1.1931457095523985, 1.1930144325665646, 1.1929005853775414, 1.1924927461796417, 1.192799052658167, 1.192591693319174, 1.1918884070107882, 1.192604575067911, 1.1922844492413978, 1.1923821036871631, 1.1920322965083554, 1.192051421725626, 1.1915696907540225, 1.1914057394350448, 1.1912586494642285, 1.1908532686624882, 1.1764251593036799, 2.219064862991271, 2.45797425813655, 2.458394136393433, 5.583735649787302, 1.7977020774148968, 2.444117618223505, 1.8154188675727638, 1.816668525290957, 1.8163108560878025, 1.572930048056798, 1.8155809172901451, 1.7974242945609569, 1.798766275394014, 1.173200239473584, 1.1727617354116877, 1.17268183856405, 1.1726256526317933, 1.1722493814726653, 1.1716996970613742, 1.171876679119983, 1.1716791129924866, 1.1713665480616051, 1.171104921855794, 1.17278485810557, 2.1854237802895993, 2.178542910244346, 1.1760517971772186, 1.176828084317447, 1.1764782785042152, 1.177198634456631, 1.177212665764085, 1.1778892205012623, 1.1781129294134223, 1.177553614281403, 1.1779314449796674, 1.1784183605175276, 2.444117618223505, 5.583735649787302, 1.8155809172901451, 1.8163108560878025, 1.816668525290957, 1.8154188675727638, 2.458394136393433, 2.45797425813655, 1.7977020774148968, 1.7007280545742454, 0.9285421300496063, 0.9296287943584264, 0.9296165678932949, 0.9297323202750136, 0.9302096708835088, 0.9305280097785695, 0.9348639644923167, 0.9412684885247209, 1.5303893787236291, 1.572930048056798, 2.178542910244346, 2.219064862991271, 2.1854237802895993, 1.1623671163270328, 1.1642762536606341, 1.165985178724375, 1.1664450810205016, 1.166731830964655, 1.1676514390847483, 1.1735510295649845, 1.176130981899677, 1.1764251593036799, 1.1765326242180558, 1.171104921855794, 1.1713665480616051, 1.1716791129924866, 1.1716996970613742, 1.171876679119983, 1.1722493814726653, 1.7955775841005854, 1.7977020774148968, 1.1908532686624882, 5.583735649787302, 2.45797425813655, 2.458394136393433, 1.8154188675727638], \"Category\": [\"Default\", \"Default\", \"Default\", \"Default\", \"Default\", \"Default\", \"Default\", \"Default\", \"Default\", \"Default\", \"Default\", \"Default\", \"Default\", \"Default\", \"Default\", \"Default\", \"Default\", \"Default\", \"Default\", \"Default\", \"Default\", \"Default\", \"Default\", \"Default\", \"Default\", \"Default\", \"Default\", \"Default\", \"Default\", \"Default\", \"Topic1\", \"Topic1\", \"Topic1\", \"Topic1\", \"Topic1\", \"Topic1\", \"Topic1\", \"Topic1\", \"Topic1\", \"Topic1\", \"Topic1\", \"Topic1\", \"Topic1\", \"Topic1\", \"Topic1\", \"Topic1\", \"Topic1\", \"Topic1\", \"Topic1\", \"Topic1\", \"Topic1\", \"Topic1\", \"Topic1\", \"Topic1\", \"Topic1\", \"Topic1\", \"Topic1\", \"Topic1\", \"Topic1\", \"Topic1\", \"Topic1\", \"Topic1\", \"Topic1\", \"Topic1\", \"Topic1\", \"Topic1\", \"Topic1\", \"Topic1\", \"Topic1\", \"Topic1\", \"Topic1\", \"Topic2\", \"Topic2\", \"Topic2\", \"Topic2\", \"Topic2\", \"Topic2\", \"Topic2\", \"Topic2\", \"Topic2\", \"Topic2\", \"Topic2\", \"Topic2\", \"Topic2\", \"Topic2\", \"Topic2\", \"Topic2\", \"Topic2\", \"Topic2\", \"Topic2\", \"Topic2\", \"Topic2\", \"Topic2\", \"Topic2\", \"Topic2\", \"Topic2\", \"Topic2\", \"Topic2\", \"Topic2\", \"Topic2\", \"Topic2\", \"Topic2\", \"Topic2\", \"Topic2\", \"Topic2\", \"Topic3\", \"Topic3\", \"Topic3\", \"Topic3\", \"Topic3\", \"Topic3\", \"Topic3\", \"Topic3\", \"Topic3\", \"Topic3\", \"Topic3\", \"Topic3\", \"Topic3\", \"Topic3\", \"Topic3\", \"Topic3\", \"Topic3\", \"Topic3\", \"Topic3\", \"Topic3\", \"Topic3\", \"Topic3\", \"Topic3\", \"Topic3\", \"Topic3\", \"Topic3\", \"Topic3\", \"Topic3\", \"Topic3\", \"Topic3\", \"Topic3\", \"Topic3\", \"Topic3\", \"Topic3\", \"Topic3\", \"Topic3\", \"Topic3\"], \"logprob\": [30.0, 29.0, 28.0, 27.0, 26.0, 25.0, 24.0, 23.0, 22.0, 21.0, 20.0, 19.0, 18.0, 17.0, 16.0, 15.0, 14.0, 13.0, 12.0, 11.0, 10.0, 9.0, 8.0, 7.0, 6.0, 5.0, 4.0, 3.0, 2.0, 1.0, -3.6988, -4.1845, -4.1855, -4.186, -4.1859, -4.1861, -4.1866, -4.1866, -4.1867, -4.1869, -4.1874, -4.1876, -4.1876, -4.1885, -4.1893, -4.1897, -4.1905, -4.1907, -4.1911, -4.1926, -4.1921, -4.1926, -4.1932, -4.1937, -4.1944, -4.1953, -4.196, -4.1979, -4.1991, -4.2364, -3.6272, -3.6188, -3.6228, -3.1195, -4.1, -4.0587, -4.1726, -4.1766, -4.1803, -4.1854, -4.1854, -3.3995, -3.4362, -3.938, -3.939, -3.9395, -3.9411, -3.9417, -3.9444, -3.9452, -3.9463, -3.9471, -3.9485, -3.9521, -3.3912, -3.4138, -4.0495, -4.076, -4.0815, -4.0947, -4.1107, -4.1149, -4.1157, -4.1402, -4.1482, -4.1597, -3.4547, -2.6781, -3.9368, -3.94, -3.943, -3.9513, -3.947, -3.9562, -4.1005, -2.6517, -3.5503, -3.5534, -3.5535, -3.5539, -3.5553, -3.5562, -3.5691, -3.5888, -3.4348, -3.5473, -3.5428, -3.5493, -3.5652, -4.621, -4.6366, -4.6507, -4.6547, -4.6575, -4.6651, -4.7166, -4.7402, -4.743, -4.7441, -4.8866, -4.8899, -4.8935, -4.8942, -4.8959, -4.9009, -4.5242, -4.6684, -4.8878, -4.5418, -4.8386, -4.8453, -4.8718], \"loglift\": [30.0, 29.0, 28.0, 27.0, 26.0, 25.0, 24.0, 23.0, 22.0, 21.0, 20.0, 19.0, 18.0, 17.0, 16.0, 15.0, 14.0, 13.0, 12.0, 11.0, 10.0, 9.0, 8.0, 7.0, 6.0, 5.0, 4.0, 3.0, 2.0, 1.0, 0.4695, 0.392, 0.391, 0.3907, 0.3906, 0.3904, 0.3902, 0.3902, 0.39, 0.3899, 0.3894, 0.3894, 0.3893, 0.3885, 0.3878, 0.3875, 0.387, 0.3866, 0.3864, 0.3855, 0.3853, 0.3851, 0.3844, 0.3843, 0.3835, 0.383, 0.3824, 0.3807, 0.3798, 0.3547, 0.3293, 0.2355, 0.2313, -0.0858, 0.0671, -0.1988, -0.0153, -0.02, -0.0236, 0.1152, -0.0282, 0.7677, 0.7303, 0.6559, 0.6552, 0.6548, 0.6533, 0.653, 0.6508, 0.6498, 0.6489, 0.6483, 0.6471, 0.6421, 0.5805, 0.5611, 0.542, 0.5147, 0.5096, 0.4958, 0.4797, 0.475, 0.474, 0.4499, 0.4416, 0.4297, 0.4052, 0.3557, 0.2204, 0.2167, 0.2136, 0.2059, -0.0929, -0.1019, 0.0666, 1.5708, 1.2774, 1.2731, 1.2731, 1.2726, 1.2707, 1.2694, 1.2518, 1.2253, 0.8933, 0.7533, 0.4321, 0.4072, 0.4066, -0.0178, -0.0352, -0.0507, -0.0551, -0.0581, -0.0665, -0.1231, -0.1488, -0.1519, -0.1531, -0.291, -0.2945, -0.2983, -0.2991, -0.3009, -0.3063, -0.356, -0.5014, -0.3089, -1.508, -0.9843, -0.9912, -0.7146]}, \"token.table\": {\"Topic\": [1, 2, 2, 1, 2, 1, 1, 2, 1, 1, 1, 2, 2, 3, 1, 2, 1, 1, 1, 2, 2, 1, 2, 2, 1, 1, 1, 2, 1, 1, 2, 1, 3, 1, 1, 1, 2, 2, 2, 1, 2, 1, 1, 1, 3, 2, 1, 1, 2, 2, 1, 1, 1, 2, 1, 1, 1, 1, 2, 1, 2, 1, 1, 2, 1, 1, 2, 2, 1, 1, 1, 1, 1, 2, 2, 1, 2, 2, 1, 2, 1, 1, 2, 1, 2, 1, 2, 1], \"Freq\": [0.8382128268546363, 0.8489458399824459, 0.8530608041300282, 0.8379983458989528, 0.8499944438170238, 0.8386573371973075, 0.8379170276202623, 0.8526881205319671, 0.8397340178804348, 0.8383641802627927, 0.40914561252860043, 0.40914561252860043, 0.45902240222013335, 0.45902240222013335, 0.8135392004042458, 0.4067696002021229, 0.8573056856865633, 0.8379334901913247, 0.556265697505342, 0.556265697505342, 0.852746215652577, 0.35818314573616766, 0.5372747186042515, 0.8497417875440947, 0.838020068134484, 0.8576438347990255, 0.4506402749543846, 0.556351665561671, 0.850245436426484, 0.8385795244488272, 0.45757715689699596, 0.8521146288548552, 0.5879834799634306, 0.8376886274184966, 0.5569238605197365, 0.5504581524248296, 0.5504581524248296, 0.852369413467475, 0.8503026842867113, 0.850032823670564, 0.8526713088838187, 0.8388899855950758, 0.8499551813657675, 0.6534284763750889, 0.6534284763750889, 0.8533321106372274, 0.8376755356451774, 0.8136781715184636, 0.4068390857592318, 0.8534759977465028, 0.8387260276993963, 0.8564199610663262, 0.838120601695114, 0.8527870746777888, 0.8382928236081884, 0.8589026846986456, 0.8393446219876296, 0.6357561807884607, 0.5559365959209754, 0.860313394928018, 0.8485950605528827, 0.8379283140859465, 0.8380051006680604, 0.8538944558574203, 0.8390047206751199, 0.8385008920019081, 0.849464186958044, 0.8489762726366068, 0.8377036325468128, 0.8392291342751446, 0.8385099490478921, 0.8570949840060497, 0.837716230238465, 0.848815062659482, 0.8534610041361302, 0.8394482595780123, 0.8537037374465021, 0.8494743119215203, 0.8379420332468982, 0.8492182333542798, 0.8380873132756433, 0.5508370645816917, 0.5508370645816917, 0.5505665490289063, 0.5505665490289063, 0.5507878996065652, 0.5507878996065652, 0.8389034449227195], \"Term\": [\"2016\", \"adequ\", \"advanc\", \"analyt\", \"applic\", \"around\", \"asset\", \"associ\", \"basebal\", \"better\", \"big\", \"big\", \"brocolli\", \"brocolli\", \"brother\", \"brother\", \"case\", \"character\", \"complex\", \"complex\", \"concept\", \"data\", \"data\", \"deal\", \"definit\", \"discoveri\", \"drive\", \"eat\", \"fals\", \"feel\", \"good\", \"greater\", \"health\", \"high\", \"higher\", \"inform\", \"inform\", \"key\", \"larg\", \"lead\", \"like\", \"lot\", \"mani\", \"may\", \"may\", \"meaning\", \"method\", \"mother\", \"mother\", \"must\", \"never\", \"offer\", \"often\", \"origin\", \"perform\", \"power\", \"practic\", \"pressur\", \"process\", \"rate\", \"refer\", \"repres\", \"requir\", \"reveal\", \"school\", \"seem\", \"set\", \"softwar\", \"specif\", \"spend\", \"state\", \"statist\", \"technolog\", \"term\", \"three\", \"time\", \"tool\", \"tradit\", \"transform\", \"use\", \"valu\", \"varieti\", \"varieti\", \"veloc\", \"veloc\", \"volum\", \"volum\", \"well\"]}, \"R\": 30, \"lambda.step\": 0.01, \"plot.opts\": {\"xlab\": \"PC1\", \"ylab\": \"PC2\"}, \"topic.order\": [3, 2, 1]};\n",
       "\n",
       "function LDAvis_load_lib(url, callback){\n",
       "  var s = document.createElement('script');\n",
       "  s.src = url;\n",
       "  s.async = true;\n",
       "  s.onreadystatechange = s.onload = callback;\n",
       "  s.onerror = function(){console.warn(\"failed to load library \" + url);};\n",
       "  document.getElementsByTagName(\"head\")[0].appendChild(s);\n",
       "}\n",
       "\n",
       "if(typeof(LDAvis) !== \"undefined\"){\n",
       "   // already loaded: just create the visualization\n",
       "   !function(LDAvis){\n",
       "       new LDAvis(\"#\" + \"ldavis_el2217621918587073605930330500\", ldavis_el2217621918587073605930330500_data);\n",
       "   }(LDAvis);\n",
       "}else if(typeof define === \"function\" && define.amd){\n",
       "   // require.js is available: use it to load d3/LDAvis\n",
       "   require.config({paths: {d3: \"https://d3js.org/d3.v5\"}});\n",
       "   require([\"d3\"], function(d3){\n",
       "      window.d3 = d3;\n",
       "      LDAvis_load_lib(\"https://cdn.jsdelivr.net/gh/bmabey/pyLDAvis@3.3.1/pyLDAvis/js/ldavis.v3.0.0.js\", function(){\n",
       "        new LDAvis(\"#\" + \"ldavis_el2217621918587073605930330500\", ldavis_el2217621918587073605930330500_data);\n",
       "      });\n",
       "    });\n",
       "}else{\n",
       "    // require.js not available: dynamically load d3 & LDAvis\n",
       "    LDAvis_load_lib(\"https://d3js.org/d3.v5.js\", function(){\n",
       "         LDAvis_load_lib(\"https://cdn.jsdelivr.net/gh/bmabey/pyLDAvis@3.3.1/pyLDAvis/js/ldavis.v3.0.0.js\", function(){\n",
       "                 new LDAvis(\"#\" + \"ldavis_el2217621918587073605930330500\", ldavis_el2217621918587073605930330500_data);\n",
       "            })\n",
       "         });\n",
       "}\n",
       "</script>"
      ],
      "text/plain": [
       "PreparedData(topic_coordinates=              x         y  topics  cluster       Freq\n",
       "topic                                                \n",
       "2      0.034779  0.058574       1        1  48.534023\n",
       "1     -0.077278 -0.003775       2        1  36.543857\n",
       "0      0.042498 -0.054799       3        1  14.922119, topic_info=        Term      Freq     Total Category  logprob  loglift\n",
       "16    health  1.000000  1.000000  Default  30.0000  30.0000\n",
       "3       good  2.000000  2.000000  Default  29.0000  29.0000\n",
       "0   brocolli  2.000000  2.000000  Default  28.0000  28.0000\n",
       "18       may  1.000000  1.000000  Default  27.0000  27.0000\n",
       "17   increas  0.000000  0.000000  Default  26.0000  26.0000\n",
       "..       ...       ...       ...      ...      ...      ...\n",
       "7    basebal  0.130483  1.190853   Topic3  -4.8878  -0.3089\n",
       "36      data  0.184429  5.583736   Topic3  -4.5418  -1.5080\n",
       "5     mother  0.137065  2.457974   Topic3  -4.8386  -0.9843\n",
       "1    brother  0.136143  2.458394   Topic3  -4.8453  -0.9912\n",
       "62   varieti  0.132581  1.815419   Topic3  -4.8718  -0.7146\n",
       "\n",
       "[142 rows x 6 columns], token_table=      Topic      Freq    Term\n",
       "term                         \n",
       "65        1  0.838213    2016\n",
       "32        2  0.848946   adequ\n",
       "80        2  0.853061  advanc\n",
       "66        1  0.837998  analyt\n",
       "33        2  0.849994  applic\n",
       "...     ...       ...     ...\n",
       "63        1  0.550567   veloc\n",
       "63        2  0.550567   veloc\n",
       "64        1  0.550788   volum\n",
       "64        2  0.550788   volum\n",
       "29        1  0.838903    well\n",
       "\n",
       "[88 rows x 3 columns], R=30, lambda_step=0.01, plot_opts={'xlab': 'PC1', 'ylab': 'PC2'}, topic_order=[3, 2, 1])"
      ]
     },
     "execution_count": 8,
     "metadata": {},
     "output_type": "execute_result"
    }
   ],
   "source": [
    "# 토픽 가시화\n",
    "import pyLDAvis\n",
    "import pyLDAvis.gensim_models as gensimvis\n",
    "pyLDAvis.enable_notebook()\n",
    "\n",
    "prepared_data = gensimvis.prepare(ldamodel, corpus, dictionary)\n",
    "prepared_data"
   ]
  }
 ],
 "metadata": {
  "kernelspec": {
   "display_name": "Python 3 (ipykernel)",
   "language": "python",
   "name": "python3"
  },
  "language_info": {
   "codemirror_mode": {
    "name": "ipython",
    "version": 3
   },
   "file_extension": ".py",
   "mimetype": "text/x-python",
   "name": "python",
   "nbconvert_exporter": "python",
   "pygments_lexer": "ipython3",
   "version": "3.8.5"
  }
 },
 "nbformat": 4,
 "nbformat_minor": 4
}
