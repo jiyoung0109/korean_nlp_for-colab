{
 "cells": [
  {
   "cell_type": "markdown",
   "metadata": {},
   "source": [
    "# Week 8-4 한글 DTM 만들기 Lab"
   ]
  },
  {
   "cell_type": "markdown",
   "metadata": {},
   "source": [
    "1. smartthings_review_result.csv 파일을 열어서 review_df에 저장하시오."
   ]
  },
  {
   "cell_type": "markdown",
   "metadata": {},
   "source": [
    "2. comment_n 컬럼값을 하나의 리스트로 변환하고 다시 하나의 문자열로 만들어서 comment_n_str 컬럼을 추가하시오."
   ]
  },
  {
   "cell_type": "markdown",
   "metadata": {},
   "source": [
    "3. commnet_n_str 컬럼을 사용하여 CountVectorizer를 이용하여 DTM를 생성하시오."
   ]
  },
  {
   "cell_type": "markdown",
   "metadata": {},
   "source": [
    "4. commnet_n_str 컬럼을 사용하여 TfidfVectorizer를 이용하여 DTM를 생성하시오."
   ]
  }
 ],
 "metadata": {
  "kernelspec": {
   "display_name": "Python 3 (ipykernel)",
   "language": "python",
   "name": "python3"
  },
  "language_info": {
   "codemirror_mode": {
    "name": "ipython",
    "version": 3
   },
   "file_extension": ".py",
   "mimetype": "text/x-python",
   "name": "python",
   "nbconvert_exporter": "python",
   "pygments_lexer": "ipython3",
   "version": "3.8.5"
  }
 },
 "nbformat": 4,
 "nbformat_minor": 4
}
