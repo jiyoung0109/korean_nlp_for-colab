{
 "cells": [
  {
   "cell_type": "markdown",
   "metadata": {},
   "source": [
    "# Week 7-13 한글 설치 패키지 확인 Lab"
   ]
  },
  {
   "cell_type": "markdown",
   "metadata": {},
   "source": [
    "다음은 LG 냉장고에 대한 한글 리뷰 2개이다. 다음을 수행하시오."
   ]
  },
  {
   "cell_type": "code",
   "execution_count": 1,
   "metadata": {},
   "outputs": [],
   "source": [
    "review1 = \"이사하는데 냉장고가 없어서 빠른배송 하나보고 구매했네요... 콕 찍힌곳이 한군데 보이긴 하는데...애가아직 어리니 이런건 흠으로도 안보이네요... 근데 냉동실이나 냉장실문 서랍깊이가 낮아서 아이스큼도 자꾸 떨어지고 긴건 놓을수가 없어 불편하네요. 아이가 작은문도 냉장고큰문을 닫는것처럼 닫으니 열려있는 경우도 허다하네요...\"\n",
    "review2 = \"주문하고3일만에도착했어요현관문이작아서베란다창문뜯고냉장고문짝분리해서겨우들어왔네요두분이서친절하게잘설명해주시고설치도너무잘해주시고가셨어요좋네요10년넘게쓰던냉장고드뎌보내줬네요이것도오래쓸수있겠죠\""
   ]
  },
  {
   "cell_type": "markdown",
   "metadata": {},
   "source": [
    "2. kss를 이용하여 문장 토큰화를 수행하시오."
   ]
  },
  {
   "cell_type": "markdown",
   "metadata": {},
   "source": [
    "3. hanspell을 이용해서 두 리뷰에 대한 문법을 수정하시오."
   ]
  }
 ],
 "metadata": {
  "kernelspec": {
   "display_name": "Python 3 (ipykernel)",
   "language": "python",
   "name": "python3"
  },
  "language_info": {
   "codemirror_mode": {
    "name": "ipython",
    "version": 3
   },
   "file_extension": ".py",
   "mimetype": "text/x-python",
   "name": "python",
   "nbconvert_exporter": "python",
   "pygments_lexer": "ipython3",
   "version": "3.8.5"
  }
 },
 "nbformat": 4,
 "nbformat_minor": 4
}
