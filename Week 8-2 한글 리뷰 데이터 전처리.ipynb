{
 "cells": [
  {
   "cell_type": "markdown",
   "metadata": {},
   "source": [
    "# Week 8-2 한글 리뷰 데이터 전처리"
   ]
  },
  {
   "cell_type": "code",
   "execution_count": 5,
   "metadata": {},
   "outputs": [],
   "source": [
    "# 예시 리뷰\n",
    "review1=\"\"\"\n",
    "업그레이드 후 에어컨 연결이 자주 끊기고,, 에어컨 삭제후 재등록해도 마찬가지이고,, 작년부터 쌓였던 데이터는 다 날라가고,,,사용은 블편하고,, 향편없네요. 앞으로 업그레이드는 층분히 안정화 한다음 시행하세요. 그리고, 고객이 과거버전도 일정기간(가전은 1년정도 더) 그냥 사용하게 해주세요. 효용없는 업그레이드보다는 고객은 안정적 사용을 더 중요하게 생각하는 사람도 많습니다.\n",
    "\"\"\""
   ]
  },
  {
   "cell_type": "code",
   "execution_count": 6,
   "metadata": {},
   "outputs": [
    {
     "data": {
      "text/plain": [
       "['업그레이드 후 에어컨 연결이 자주 끊기고,, 에어컨 삭제후 재등록해도 마찬가지이고,, 작년부터 쌓였던 데이터는 다 날라가고,,,사용은 블편하고,, 향편없네요.',\n",
       " '앞으로 업그레이드는 층분히 안정화 한다음 시행하세요.',\n",
       " '그리고, 고객이 과거버전도 일정기간(가전은 1년정도 더) 그냥 사용하게 해주세요.',\n",
       " '효용없는 업그레이드보다는 고객은 안정적 사용을 더 중요하게 생각하는 사람도 많습니다.']"
      ]
     },
     "execution_count": 6,
     "metadata": {},
     "output_type": "execute_result"
    }
   ],
   "source": [
    "# 문장 분리\n",
    "import kss\n",
    "\n",
    "review1_split=kss.split_sentences(review1)\n",
    "review1_split"
   ]
  },
  {
   "cell_type": "code",
   "execution_count": 3,
   "metadata": {},
   "outputs": [
    {
     "data": {
      "text/plain": [
       "['업그레이드 후 에어컨 연결이 자주 끊기고,, 에어컨 삭제 후 재등록해도 마찬가지이고,, 작년부터 쌓였던 데이터는 다 날아가고,,, 사용은 불편하고,, 향 편 없네요.',\n",
       " '앞으로 업그레이드는 층분히 안정화한 다음 시행하세요.',\n",
       " '그리고, 고객이 과거 버전도 일정 기간(가전은 1년 정도 더) 그냥 사용하게 해주세요.',\n",
       " '효용 없는 업그레이드보다는 고객은 안정적 사용을 더 중요하게 생각하는 사람도 많습니다.']"
      ]
     },
     "execution_count": 3,
     "metadata": {},
     "output_type": "execute_result"
    }
   ],
   "source": [
    "from hanspell import spell_checker\n",
    "review1_checked=list(map((lambda x:spell_checker.check(x).checked),review1_split))\n",
    "review1_checked"
   ]
  },
  {
   "cell_type": "code",
   "execution_count": 7,
   "metadata": {},
   "outputs": [
    {
     "data": {
      "text/plain": [
       "0        추가정보등록은 앱설정에서 충분히 할수있음에도 굳이 기기화면마다 상단배치하여 끈질기게...\n",
       "1        그냥 엘지제품은 리모컨만 사용하는것이 정신 건강에 좋을 듯합니다 앱에서 제품삭제하고...\n",
       "2        퓨리케어 공기청정기 1단짜리 사용 중인데 언제부터 어플에서 공기청정기 수치 표시가 ...\n",
       "3        에너지모니터링 . 지난달 대비 사용량... 이전달하고 이번달하고 바꼈다. 보기는 했...\n",
       "4        LG엡만.서비스오작동기능들이잘안되고짜증나네.통신사이동하고삼성단말기로교체해야것네. 별...\n",
       "                               ...                        \n",
       "11374                                              좋아요....\n",
       "11375                                               좋아요~~~\n",
       "11376                                               굿뜨~~~♡\n",
       "11377                                                  굿~~\n",
       "11378                                             좋아요👍👍👍👍👍\n",
       "Name: comment, Length: 11379, dtype: object"
      ]
     },
     "execution_count": 7,
     "metadata": {},
     "output_type": "execute_result"
    }
   ],
   "source": [
    "import pandas as pd\n",
    "import matplotlib.pyplot as plt\n",
    "import seaborn as sns\n",
    "import os\n",
    "\n",
    "os.chdir('D:\\kjw\\lecture\\LG전자_21\\week8_텍스트마이닝')\n",
    "review_df=pd.read_csv(\"thinq_review.csv\")\n",
    "review_df['comment']"
   ]
  },
  {
   "cell_type": "code",
   "execution_count": 8,
   "metadata": {},
   "outputs": [],
   "source": [
    "# 문장 분리\n",
    "import kss\n",
    "\n",
    "review_df['comment_n']=review_df['comment'].apply(lambda x: kss.split_sentences(x))"
   ]
  },
  {
   "cell_type": "code",
   "execution_count": 9,
   "metadata": {},
   "outputs": [
    {
     "data": {
      "text/plain": [
       "0        [추가정보등록은 앱설정에서 충분히 할수있음에도 굳이 기기화면마다 상단배치하여 끈질기...\n",
       "1        [그냥 엘지제품은 리모컨만 사용하는것이 정신 건강에 좋을 듯합니다, 앱에서 제품삭제...\n",
       "2        [퓨리케어 공기청정기 1단짜리 사용 중인데 언제부터 어플에서 공기청정기 수치 표시가...\n",
       "3        [에너지모니터링 . 지난달 대비 사용량... 이전달하고 이번달하고 바꼈다., 보기는...\n",
       "4        [LG엡만.서비스오작동기능들이잘안되고짜증나네., 통신사이동하고삼성단말기로교체해야것네...\n",
       "                               ...                        \n",
       "11374                                            [좋아요....]\n",
       "11375                                             [좋아요~~~]\n",
       "11376                                             [굿뜨~~~♡]\n",
       "11377                                                [굿~~]\n",
       "11378                                           [좋아요👍👍👍👍👍]\n",
       "Name: comment_n, Length: 11379, dtype: object"
      ]
     },
     "execution_count": 9,
     "metadata": {},
     "output_type": "execute_result"
    }
   ],
   "source": [
    "review_df['comment_n']"
   ]
  },
  {
   "cell_type": "code",
   "execution_count": 10,
   "metadata": {},
   "outputs": [],
   "source": [
    "# 숫자 제거\n",
    "import re\n",
    "\n",
    "def remove_num(sent_list):\n",
    "    p=re.compile(\"[0-9]+\")\n",
    "    sent_n_remove=[]\n",
    "    for sentence in sent_list:\n",
    "        sent_n_remove.append(p.sub(\" \", sentence))\n",
    "    return(sent_n_remove)\n",
    "\n",
    "review_df['comment_n']=review_df['comment_n'].apply(lambda x: remove_num(x))"
   ]
  },
  {
   "cell_type": "code",
   "execution_count": 11,
   "metadata": {},
   "outputs": [
    {
     "data": {
      "text/plain": [
       "0        [추가정보등록은 앱설정에서 충분히 할수있음에도 굳이 기기화면마다 상단배치하여 끈질기...\n",
       "1        [그냥 엘지제품은 리모컨만 사용하는것이 정신 건강에 좋을 듯합니다, 앱에서 제품삭제...\n",
       "2        [퓨리케어 공기청정기  단짜리 사용 중인데 언제부터 어플에서 공기청정기 수치 표시가...\n",
       "3        [에너지모니터링 . 지난달 대비 사용량... 이전달하고 이번달하고 바꼈다., 보기는...\n",
       "4        [LG엡만.서비스오작동기능들이잘안되고짜증나네., 통신사이동하고삼성단말기로교체해야것네...\n",
       "                               ...                        \n",
       "11374                                            [좋아요....]\n",
       "11375                                             [좋아요~~~]\n",
       "11376                                             [굿뜨~~~♡]\n",
       "11377                                                [굿~~]\n",
       "11378                                           [좋아요👍👍👍👍👍]\n",
       "Name: comment_n, Length: 11379, dtype: object"
      ]
     },
     "execution_count": 11,
     "metadata": {},
     "output_type": "execute_result"
    }
   ],
   "source": [
    "review_df['comment_n']"
   ]
  },
  {
   "cell_type": "code",
   "execution_count": 12,
   "metadata": {},
   "outputs": [],
   "source": [
    "# 문장 부호, 특수 문자 제거\n",
    "\n",
    "def remove_punc(sent_list):\n",
    "    p=re.compile(\"\\W+\")\n",
    "    sent_n_remove=[]\n",
    "    for sentence in sent_list:\n",
    "        sent_n_remove.append(p.sub(\" \", sentence))\n",
    "    return(sent_n_remove)\n",
    "\n",
    "review_df['comment_n']=review_df['comment_n'].apply(lambda x: remove_punc(x))"
   ]
  },
  {
   "cell_type": "code",
   "execution_count": 13,
   "metadata": {},
   "outputs": [
    {
     "data": {
      "text/plain": [
       "0        [추가정보등록은 앱설정에서 충분히 할수있음에도 굳이 기기화면마다 상단배치하여 끈질기...\n",
       "1        [그냥 엘지제품은 리모컨만 사용하는것이 정신 건강에 좋을 듯합니다, 앱에서 제품삭제...\n",
       "2        [퓨리케어 공기청정기 단짜리 사용 중인데 언제부터 어플에서 공기청정기 수치 표시가 ...\n",
       "3        [에너지모니터링 지난달 대비 사용량 이전달하고 이번달하고 바꼈다 , 보기는 했는지 ...\n",
       "4        [LG엡만 서비스오작동기능들이잘안되고짜증나네 , 통신사이동하고삼성단말기로교체해야것네...\n",
       "                               ...                        \n",
       "11374                                               [좋아요 ]\n",
       "11375                                               [좋아요 ]\n",
       "11376                                                [굿뜨 ]\n",
       "11377                                                 [굿 ]\n",
       "11378                                               [좋아요 ]\n",
       "Name: comment_n, Length: 11379, dtype: object"
      ]
     },
     "execution_count": 13,
     "metadata": {},
     "output_type": "execute_result"
    }
   ],
   "source": [
    "review_df['comment_n']"
   ]
  },
  {
   "cell_type": "code",
   "execution_count": 18,
   "metadata": {},
   "outputs": [],
   "source": [
    "# 맞춤법 검사 # 시간 걸림!\n",
    "from hanspell import spell_checker\n",
    "\n",
    "def spell_checking(sent_list):\n",
    "    sent_spell=[]\n",
    "    for sentence in sent_list:\n",
    "        sent_spell.append(spell_checker.check(sentence).checked)\n",
    "    return(sent_spell)\n",
    "    \n",
    "review_df['comment_n']=review_df['comment_n'].apply(lambda x: spell_checking(x))"
   ]
  },
  {
   "cell_type": "code",
   "execution_count": 19,
   "metadata": {},
   "outputs": [
    {
     "data": {
      "text/plain": [
       "0        [추가 정보 등록은 앱 설정에서 충분히 할 수 있음에도 굳이 기기 화면마다 상단 배...\n",
       "1        [그냥 엘지 제품은 리모컨만 사용하는 것이 정신 건강에 좋을 듯합니다, 앱에서 제품...\n",
       "2        [퓨리 케어 공기청정기 단짜리 사용 중인데 언제부터 어플에서 공기청정기 수치 표시가...\n",
       "3        [에너지 모니터링 지난달 대비 사용량 이 전달하고 이번 달하고 바뀌었다, 보기는 했...\n",
       "4        [LG 옙만 서비스 오작동 기능들이 잘 안되고 짜증 나네, 통신사 이동하고 삼성 단...\n",
       "                               ...                        \n",
       "11374                                               [좋아요 ]\n",
       "11375                                               [좋아요 ]\n",
       "11376                                                  [굿]\n",
       "11377                                                 [굿 ]\n",
       "11378                                               [좋아요 ]\n",
       "Name: comment_n, Length: 11379, dtype: object"
      ]
     },
     "execution_count": 19,
     "metadata": {},
     "output_type": "execute_result"
    }
   ],
   "source": [
    "review_df['comment_n']"
   ]
  },
  {
   "cell_type": "code",
   "execution_count": 20,
   "metadata": {},
   "outputs": [],
   "source": [
    "# 명사만 추출\n",
    "from konlpy.tag import Okt  \n",
    "okt=Okt()  \n",
    "\n",
    "def noun_selection(sent_list):    \n",
    "    sent_tokens=[]\n",
    "    for sentence in sent_list:\n",
    "        sent_tokens.append(okt.nouns(sentence))\n",
    "    return(sent_tokens)\n",
    "\n",
    "review_df['comment_n']=review_df['comment_n'].apply(lambda x: noun_selection(x))"
   ]
  },
  {
   "cell_type": "code",
   "execution_count": 21,
   "metadata": {},
   "outputs": [
    {
     "data": {
      "text/plain": [
       "0        [[추가, 정보, 등록, 앱, 설정, 수, 굳이, 기기, 화면, 상단, 배치, 개인...\n",
       "1        [[그냥, 엘지, 제품, 리모컨, 사용, 것, 정신, 건강, 듯], [앱, 제품, ...\n",
       "2        [[퓨리, 케어, 공기청정기, 단, 사용, 중, 언제, 어플, 공기청정기, 수치, ...\n",
       "3        [[에너지, 모니터링, 지난달, 대비, 용량, 이, 전달, 이번, 달], [보기, ...\n",
       "4        [[옙, 서비스, 작동, 기능, 짜증], [통신사, 이동, 삼성, 단말기, 교체],...\n",
       "                               ...                        \n",
       "11374                                                 [[]]\n",
       "11375                                                 [[]]\n",
       "11376                                                [[굿]]\n",
       "11377                                                [[굿]]\n",
       "11378                                                 [[]]\n",
       "Name: comment_n, Length: 11379, dtype: object"
      ]
     },
     "execution_count": 21,
     "metadata": {},
     "output_type": "execute_result"
    }
   ],
   "source": [
    "review_df['comment_n']"
   ]
  },
  {
   "cell_type": "code",
   "execution_count": 22,
   "metadata": {},
   "outputs": [],
   "source": [
    "# 불용어 처리\n",
    "def rem_n_stopwords(sent_list):\n",
    "    stopwords=['이','거','것','저','또','도','나','더','그','일','말','제','수','안','줄','게','좀','듯','점','등','고','요','후','왜','때']\n",
    "    sent_stop=[]\n",
    "    for sentence in sent_list:\n",
    "        new_sent=[]\n",
    "        for token in sentence:\n",
    "            if token not in stopwords:\n",
    "                new_sent.append(token)\n",
    "        sent_stop.append(new_sent)\n",
    "    return(sent_stop)\n",
    "\n",
    "review_df['comment_n']=review_df['comment_n'].apply(lambda x: rem_n_stopwords(x))"
   ]
  },
  {
   "cell_type": "code",
   "execution_count": 23,
   "metadata": {},
   "outputs": [
    {
     "data": {
      "text/plain": [
       "0        [[추가, 정보, 등록, 앱, 설정, 굳이, 기기, 화면, 상단, 배치, 개인, 정...\n",
       "1        [[그냥, 엘지, 제품, 리모컨, 사용, 정신, 건강], [앱, 제품, 삭제, 제품...\n",
       "2        [[퓨리, 케어, 공기청정기, 단, 사용, 중, 언제, 어플, 공기청정기, 수치, ...\n",
       "3        [[에너지, 모니터링, 지난달, 대비, 용량, 전달, 이번, 달], [보기, 달, ...\n",
       "4        [[옙, 서비스, 작동, 기능, 짜증], [통신사, 이동, 삼성, 단말기, 교체],...\n",
       "                               ...                        \n",
       "11374                                                 [[]]\n",
       "11375                                                 [[]]\n",
       "11376                                                [[굿]]\n",
       "11377                                                [[굿]]\n",
       "11378                                                 [[]]\n",
       "Name: comment_n, Length: 11379, dtype: object"
      ]
     },
     "execution_count": 23,
     "metadata": {},
     "output_type": "execute_result"
    }
   ],
   "source": [
    "review_df['comment_n']"
   ]
  },
  {
   "cell_type": "code",
   "execution_count": 24,
   "metadata": {},
   "outputs": [],
   "source": [
    "# 빈 리스트 제거\n",
    "def remove_empty_list(sent_list):\n",
    "    removed_list = []\n",
    "    for sentence in sent_list:\n",
    "        if sentence: # sentence가 빈 경우가 아니면\n",
    "            removed_list.append(sentence)    \n",
    "    return removed_list\n",
    "\n",
    "review_df['comment_n']=review_df['comment_n'].apply(lambda x: remove_empty_list(x))\n",
    "\n",
    "review_df.to_csv('thinq_review_result.csv',index=False, encoding='utf-8-sig')"
   ]
  },
  {
   "cell_type": "code",
   "execution_count": 25,
   "metadata": {},
   "outputs": [
    {
     "data": {
      "text/plain": [
       "0        [[추가, 정보, 등록, 앱, 설정, 굳이, 기기, 화면, 상단, 배치, 개인, 정...\n",
       "1        [[그냥, 엘지, 제품, 리모컨, 사용, 정신, 건강], [앱, 제품, 삭제, 제품...\n",
       "2        [[퓨리, 케어, 공기청정기, 단, 사용, 중, 언제, 어플, 공기청정기, 수치, ...\n",
       "3        [[에너지, 모니터링, 지난달, 대비, 용량, 전달, 이번, 달], [보기, 달, ...\n",
       "4        [[옙, 서비스, 작동, 기능, 짜증], [통신사, 이동, 삼성, 단말기, 교체],...\n",
       "                               ...                        \n",
       "11374                                                   []\n",
       "11375                                                   []\n",
       "11376                                                [[굿]]\n",
       "11377                                                [[굿]]\n",
       "11378                                                   []\n",
       "Name: comment_n, Length: 11379, dtype: object"
      ]
     },
     "execution_count": 25,
     "metadata": {},
     "output_type": "execute_result"
    }
   ],
   "source": [
    "review_df['comment_n']"
   ]
  },
  {
   "cell_type": "code",
   "execution_count": 26,
   "metadata": {},
   "outputs": [],
   "source": [
    "# 리뷰 전체를 한 리스트로 만들기\n",
    "def one_word_list(sent_list):\n",
    "    one_list=[]\n",
    "    for sentence in sent_list:\n",
    "        one_list.extend(sentence)\n",
    "    return(one_list)\n",
    "\n",
    "review_df['comment_n']=review_df['comment_n'].apply(lambda x: one_word_list(x))"
   ]
  },
  {
   "cell_type": "code",
   "execution_count": 27,
   "metadata": {},
   "outputs": [
    {
     "data": {
      "text/plain": [
       "0        [추가, 정보, 등록, 앱, 설정, 굳이, 기기, 화면, 상단, 배치, 개인, 정보...\n",
       "1        [그냥, 엘지, 제품, 리모컨, 사용, 정신, 건강, 앱, 제품, 삭제, 제품, 전...\n",
       "2        [퓨리, 케어, 공기청정기, 단, 사용, 중, 언제, 어플, 공기청정기, 수치, 표...\n",
       "3        [에너지, 모니터링, 지난달, 대비, 용량, 전달, 이번, 달, 보기, 달, 시작,...\n",
       "4        [옙, 서비스, 작동, 기능, 짜증, 통신사, 이동, 삼성, 단말기, 교체, 별, ...\n",
       "                               ...                        \n",
       "11374                                                   []\n",
       "11375                                                   []\n",
       "11376                                                  [굿]\n",
       "11377                                                  [굿]\n",
       "11378                                                   []\n",
       "Name: comment_n, Length: 11379, dtype: object"
      ]
     },
     "execution_count": 27,
     "metadata": {},
     "output_type": "execute_result"
    }
   ],
   "source": [
    "review_df['comment_n']"
   ]
  },
  {
   "cell_type": "code",
   "execution_count": 28,
   "metadata": {},
   "outputs": [
    {
     "data": {
      "text/plain": [
       "연결      1810\n",
       "사용      1700\n",
       "앱       1600\n",
       "에어컨     1062\n",
       "제품      1048\n",
       "업데이트    1027\n",
       "등록       998\n",
       "기능       911\n",
       "어플       845\n",
       "세탁기      595\n",
       "다시       586\n",
       "와이파이     553\n",
       "굿        498\n",
       "건조기      471\n",
       "알림       466\n",
       "dtype: int64"
      ]
     },
     "execution_count": 28,
     "metadata": {},
     "output_type": "execute_result"
    }
   ],
   "source": [
    "# 단어 빈도 그래프\n",
    "total_word=[]\n",
    "for i in range(len(review_df)):\n",
    "    total_word.extend(review_df.loc[i,'comment_n'])\n",
    "\n",
    "pd.Series(total_word).value_counts().head(15)\n"
   ]
  },
  {
   "cell_type": "code",
   "execution_count": 29,
   "metadata": {},
   "outputs": [
    {
     "data": {
      "text/plain": [
       "<AxesSubplot:>"
      ]
     },
     "execution_count": 29,
     "metadata": {},
     "output_type": "execute_result"
    },
    {
     "data": {
      "image/png": "[encoded data removed]",
      "text/plain": [
       "<Figure size 432x288 with 1 Axes>"
      ]
     },
     "metadata": {
      "needs_background": "light"
     },
     "output_type": "display_data"
    }
   ],
   "source": [
    "# 단어 빈도 그래프\n",
    "# 한글 폰트 사용\n",
    "from matplotlib import font_manager, rc\n",
    "\n",
    "font_name = font_manager.FontProperties(fname=\"c:/Windows/Fonts/malgun.ttf\").get_name()\n",
    "rc('font', family=font_name)\n",
    "\n",
    "pd.Series(total_word).value_counts().head(15).plot(kind='bar')\n"
   ]
  },
  {
   "cell_type": "code",
   "execution_count": 30,
   "metadata": {},
   "outputs": [
    {
     "data": {
      "text/plain": [
       "<AxesSubplot:>"
      ]
     },
     "execution_count": 30,
     "metadata": {},
     "output_type": "execute_result"
    },
    {
     "data": {
      "image/png": "[encoded data removed]",
      "text/plain": [
       "<Figure size 432x288 with 1 Axes>"
      ]
     },
     "metadata": {
      "needs_background": "light"
     },
     "output_type": "display_data"
    }
   ],
   "source": [
    "pd.Series(total_word).value_counts().head(15).plot(kind='barh')"
   ]
  },
  {
   "cell_type": "code",
   "execution_count": 31,
   "metadata": {},
   "outputs": [
    {
     "data": {
      "image/png": "[encoded data removed]",
      "text/plain": [
       "<Figure size 432x288 with 1 Axes>"
      ]
     },
     "metadata": {
      "needs_background": "light"
     },
     "output_type": "display_data"
    }
   ],
   "source": [
    "pd.Series(total_word).value_counts().head(15).plot(kind='barh').invert_yaxis()"
   ]
  }
 ],
 "metadata": {
  "kernelspec": {
   "display_name": "Python 3 (ipykernel)",
   "language": "python",
   "name": "python3"
  },
  "language_info": {
   "codemirror_mode": {
    "name": "ipython",
    "version": 3
   },
   "file_extension": ".py",
   "mimetype": "text/x-python",
   "name": "python",
   "nbconvert_exporter": "python",
   "pygments_lexer": "ipython3",
   "version": "3.8.5"
  }
 },
 "nbformat": 4,
 "nbformat_minor": 4
}
